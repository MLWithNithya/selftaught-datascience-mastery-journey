{
  "nbformat": 4,
  "nbformat_minor": 0,
  "metadata": {
    "colab": {
      "provenance": [],
      "toc_visible": true,
      "authorship_tag": "ABX9TyPl4UaJbFcYX2kI2Dg5cMuC",
      "include_colab_link": true
    },
    "kernelspec": {
      "name": "python3",
      "display_name": "Python 3"
    },
    "language_info": {
      "name": "python"
    }
  },
  "cells": [
    {
      "cell_type": "markdown",
      "metadata": {
        "id": "view-in-github",
        "colab_type": "text"
      },
      "source": [
        "<a href=\"https://colab.research.google.com/github/MLWithNithya/selftaught-datascience-mastery-journey/blob/main/Python_Mastery.ipynb\" target=\"_parent\"><img src=\"https://colab.research.google.com/assets/colab-badge.svg\" alt=\"Open In Colab\"/></a>"
      ]
    },
    {
      "cell_type": "code",
      "execution_count": null,
      "metadata": {
        "id": "BVb0hvGeO8Pe"
      },
      "outputs": [],
      "source": []
    },
    {
      "cell_type": "markdown",
      "source": [
        "# **Tracker**\n",
        "\n",
        "\n",
        "1)08/28/2025-\n",
        "2)08/29/2025-Graphs"
      ],
      "metadata": {
        "id": "7ehsWhk4kMym"
      }
    },
    {
      "cell_type": "markdown",
      "source": [
        "#  Graphs\n",
        "\n",
        "**Graphs**\n",
        "\n",
        "\n",
        "Graphs have nodes(also called as vertices) and the edges(connection between a pair of 2 nodes.\n",
        "\n",
        "Trees and grpahs may lok similar  but they have differences.\n",
        "\n",
        "1)There is no isolated node in a tree\n",
        "2)trees dont have cycle(complete rotation)(closed graph)\n",
        "\n",
        "\n",
        "\n",
        "**Terminologies**\n",
        "\n",
        "1)vertex(vertices)\n",
        "\n",
        "Vertex are the nodes in the graph.\n",
        "In a city map, the destinations are the vertex.\n",
        "In a rai route , the stops are the vertices.\n",
        "\n",
        "2)edges\n",
        "\n",
        "Edges are the line connecting the 2 vertices\n",
        "It can be unidirectional A<-B\n",
        "It can be bidirectional A<-->B\n",
        "\n",
        "3)Adjacent vertex\n",
        "\n",
        "2 Nodes are said to be adjacent , when they are connected by an edge.\n",
        "c-->A--->B   D\n",
        "here a and B are adjacent vertices,c and A are adjacent vertices.\n",
        "D cant be a adjacent vertices.\n",
        "\n",
        "\n",
        "4)Degree:\n",
        "\n",
        "Number of edges connected to a node /vertex is called as degree.\n",
        "\n",
        "In a directed graph, there are 2 degree .In degreee and out degreee.\n",
        "\n",
        "c-->A--->B\n",
        "\n",
        "here In degree for A is 1( can be related to followers list in instagram)\n",
        "Out degree for A is 1( can be related to following list in the instagram)\n",
        "\n",
        "\n",
        "5)Path- the path of length n from a node u1 to the node un is defined as the sequence of the (n+1) nodes.\n",
        "P={u0,u1,u2....un}\n",
        "\n",
        "6)Cycle- if the path is closed means then the u0 and un is same ....that means the starting point and the ending point are the same.It forms a cycle\n",
        ".\n",
        "\n"
      ],
      "metadata": {
        "id": "BtBfmqn4kPZU"
      }
    }
  ]
}